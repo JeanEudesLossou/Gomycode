{
 "cells": [
  {
   "cell_type": "code",
   "execution_count": 5,
   "id": "e31a3615",
   "metadata": {},
   "outputs": [
    {
     "name": "stdout",
     "output_type": "stream",
     "text": [
      "solution: [2002]\n"
     ]
    }
   ],
   "source": [
    "def question_1():\n",
    "    resultat = []\n",
    "    for i in range(2000, 3201):\n",
    "        if i%7 == 0 and i%5 != 0:\n",
    "            resultat.append(i)\n",
    "    return resultat\n",
    "\n",
    "print('solution:',question_1())\n",
    "#output: solution:  [2002,..... 3199]
   ]
  },
  {
   "cell_type": "code",
   "execution_count": 4,
   "id": "d77aecca",
   "metadata": {},
   "outputs": [
    {
     "name": "stdout",
     "output_type": "stream",
     "text": [
      "le factoriel de 5:   120\n"
     ]
    }
   ],
   "source": [
    "def question_2_factoriel(nbre):\n",
    "    i=nbre\n",
    "    valeur = nbre\n",
    "    while i>1:\n",
    "        i=i-1\n",
    "        valeur=valeur*i\n",
    "    return 'le factoriel de'+ ' ' +str(nbre ) + ':   ' +str(valeur)\n",
    "\n",
    "print(question_2_factoriel(5))\n",
    "#input: 5\n",
    "#output: le factoriel de 5:   120"
   ]
  },
  {
   "cell_type": "code",
   "execution_count": 6,
   "id": "1d48b04f",
   "metadata": {},
   "outputs": [
    {
     "name": "stdout",
     "output_type": "stream",
     "text": [
      "entrez une valeur :7\n",
      "{1: 1, 2: 4, 3: 9, 4: 16, 5: 25, 6: 36, 7: 49}\n"
     ]
    }
   ],
   "source": [
    "def  question_3():\n",
    "    nombre = int(input('entrez une valeur :'))\n",
    "    a= range(1, nombre+1)\n",
    "    b={i:i*i for i in a}\n",
    "    return b\n",
    "\n",
    "print(question_3())\n",
    "#input: 7\n",
    "#output: {1: 1, 2: 4, 3: 9, 4: 16, 5: 25, 6: 36, 7: 49}"
   ]
  },
  {
   "cell_type": "code",
   "execution_count": 7,
   "id": "f16dd67b",
   "metadata": {},
   "outputs": [
    {
     "name": "stdout",
     "output_type": "stream",
     "text": [
      "entrez une CHAINELOSSOU\n",
      "entrez un NOMBRE3\n",
      "la nouvelle chaine est :LOSOU\n"
     ]
    }
   ],
   "source": [
    "def  question_4():\n",
    "    chaine = input('entrez une CHAINE')\n",
    "    nombre = int(input('entrez un NOMBRE'))\n",
    "    index=range(len(chaine))\n",
    "    if nombre in index:\n",
    "        chaine =str(chaine[:nombre]) + str(chaine[nombre+1:])\n",
    "    else:\n",
    "        chaine = 'pas possible'\n",
    "    return 'la nouvelle chaine est :' +str(chaine)\n",
    "\n",
    "print(question_4())\n",
    "#input: LOSSOU\n",
    "#input: 3\n",
    "#output: la nouvelle chaine est :LOSOU\n",
    "\n",
    "        "
   ]
  },
  {
   "cell_type": "code",
   "execution_count": 8,
   "id": "6c973785",
   "metadata": {},
   "outputs": [
    {
     "name": "stdout",
     "output_type": "stream",
     "text": [
      "([1, 4, 6], <class 'list'>)\n"
     ]
    }
   ],
   "source": [
    "import numpy as np\n",
    "\n",
    "def  question_5(liste):\n",
    "    \n",
    "    my_array = np.array(liste)\n",
    "    my_list = my_array.tolist()\n",
    "    return my_list, type(my_list)\n",
    "\n",
    "print(question_5([1, 4, 6]))\n",
    "#input: [1, 4, 6]\n",
    "#output: ([1, 4, 6], <class 'list'>)"
   ]
  },
  {
   "cell_type": "code",
   "execution_count": 9,
   "id": "768645b9",
   "metadata": {},
   "outputs": [
    {
     "name": "stdout",
     "output_type": "stream",
     "text": [
      "\n",
      "Covariance matrix of the said arrays:\n",
      " [[ 0.33333333 -0.16666667]\n",
      " [-0.16666667  0.33333333]]\n"
     ]
    }
   ],
   "source": [
    "import numpy as np\n",
    "  \n",
    "def question_6(liste1, liste2):  \n",
    "    array1 = np.array(liste1)\n",
    "    array2 = np.array(liste2)\n",
    "    print(\"\\nCovariance matrix of the said arrays:\\n\",np.cov(array1, array2))\n",
    "    \n",
    "question_6([0, 1, 1], [2, 2, 1])\n",
    "# input: [0, 1, 1], [2, 2, 1]\n",
    "# output:Covariance matrix of the said arrays:\n",
    "# [[ 0.33333333 -0.16666667]\n",
    "# [-0.16666667  0.33333333]]"
   ]
  },
  {
   "cell_type": "code",
   "execution_count": 11,
   "id": "ce49d0d9",
   "metadata": {},
   "outputs": [
    {
     "name": "stdout",
     "output_type": "stream",
     "text": [
      "Entrez les valeurs séparées par des virgules100,150,180\n",
      "[18, 22, 24]\n"
     ]
    }
   ],
   "source": [
    "def question_7():\n",
    "    x = input('Entrez les valeurs séparées par des virgules')\n",
    "    y=x.split(',')\n",
    "    liste = []\n",
    "    for valeur in y:\n",
    "        liste.append(int(((2 * 50 * int(valeur)) / 30) ** (1/2)))\n",
    "    return liste\n",
    "\n",
    "print(question_7())\n",
    "# input: 100,150,180\n",
    "# output: [18, 22, 24]"
   ]
  },
  {
   "cell_type": "code",
   "execution_count": null,
   "id": "f6ac7699",
   "metadata": {},
   "outputs": [],
   "source": []
  }
 ],
 "metadata": {
  "kernelspec": {
   "display_name": "Python 3 (ipykernel)",
   "language": "python",
   "name": "python3"
  },
  "language_info": {
   "codemirror_mode": {
    "name": "ipython",
    "version": 3
   },
   "file_extension": ".py",
   "mimetype": "text/x-python",
   "name": "python",
   "nbconvert_exporter": "python",
   "pygments_lexer": "ipython3",
   "version": "3.9.7"
  }
 },
 "nbformat": 4,
 "nbformat_minor": 5
}
